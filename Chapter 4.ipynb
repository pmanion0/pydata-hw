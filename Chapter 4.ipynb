{
 "metadata": {
  "name": "",
  "signature": "sha256:d6f072133c6c632ebde0f147f7c18f76075c342de265454f46e7dc820c093886"
 },
 "nbformat": 3,
 "nbformat_minor": 0,
 "worksheets": [
  {
   "cells": [
    {
     "cell_type": "code",
     "collapsed": false,
     "input": [
      "import numpy as np\n",
      "import pandas as pd\n",
      "import matplotlib.pyplot as plt\n",
      "\n",
      "%matplotlib inlinedf"
     ],
     "language": "python",
     "metadata": {},
     "outputs": [],
     "prompt_number": 3
    },
    {
     "cell_type": "code",
     "collapsed": false,
     "input": [
      "%qtconsole"
     ],
     "language": "python",
     "metadata": {},
     "outputs": [],
     "prompt_number": 24
    },
    {
     "cell_type": "code",
     "collapsed": false,
     "input": [
      "data = np.random.rand(2,3)\n",
      "\n",
      "print data\n",
      "print data*10\n",
      "print data+data\n",
      "\n",
      "print data.shape\n",
      "print data.dtype"
     ],
     "language": "python",
     "metadata": {},
     "outputs": [
      {
       "output_type": "stream",
       "stream": "stdout",
       "text": [
        "[[ 0.48395271  0.69495926  0.06856864]\n",
        " [ 0.24473158  0.48528073  0.5393448 ]]\n",
        "[[ 4.83952714  6.9495926   0.68568638]\n",
        " [ 2.4473158   4.85280731  5.393448  ]]\n",
        "[[ 0.96790543  1.38991852  0.13713728]\n",
        " [ 0.48946316  0.97056146  1.0786896 ]]\n",
        "(2, 3)\n",
        "float64\n"
       ]
      }
     ],
     "prompt_number": 6
    },
    {
     "cell_type": "heading",
     "level": 1,
     "metadata": {},
     "source": [
      "Creating ndarrays"
     ]
    },
    {
     "cell_type": "code",
     "collapsed": false,
     "input": [
      "arr1 = np.array([6,7.5,8,0,1])\n",
      "print arr1, \" | \", arr1.shape, \" | \", arr1.dtype, \" | \", arr1.ndim\n",
      "\n",
      "arr2 = np.array([[1,2,3,4],[5,6,7,8]])\n",
      "print arr2, \" | \", arr2.shape, \" | \", arr2.dtype, \" | \", arr2.ndim"
     ],
     "language": "python",
     "metadata": {},
     "outputs": [
      {
       "output_type": "stream",
       "stream": "stdout",
       "text": [
        "[ 6.   7.5  8.   0.   1. ]  |  (5,)  |  float64  |  1\n",
        "[[1 2 3 4]\n",
        " [5 6 7 8]]  |  (2, 4)  |  int64  |  2\n"
       ]
      }
     ],
     "prompt_number": 10
    },
    {
     "cell_type": "code",
     "collapsed": false,
     "input": [
      "print np.zeros(10)\n",
      "print np.ones(3)\n",
      "print np.empty((3,2))\n",
      "print np.eye(4)\n",
      "print np.arange(1,15,2)"
     ],
     "language": "python",
     "metadata": {},
     "outputs": [
      {
       "output_type": "stream",
       "stream": "stdout",
       "text": [
        "[ 0.  0.  0.  0.  0.  0.  0.  0.  0.  0.]\n",
        "[ 1.  1.  1.]\n",
        "[[  0.00000000e+000   0.00000000e+000]\n",
        " [  2.12358237e-314   2.12358819e-314]\n",
        " [  2.12358818e-314   4.17203518e-309]]\n",
        "[[ 1.  0.  0.  0.]\n",
        " [ 0.  1.  0.  0.]\n",
        " [ 0.  0.  1.  0.]\n",
        " [ 0.  0.  0.  1.]]\n",
        "[ 1  3  5  7  9 11 13]\n"
       ]
      }
     ],
     "prompt_number": 37
    },
    {
     "cell_type": "heading",
     "level": 1,
     "metadata": {},
     "source": [
      "Data Types for ndarrays"
     ]
    },
    {
     "cell_type": "code",
     "collapsed": false,
     "input": [
      "arr3 = np.array([1.1,2.2,3.3,4.4,5.5,6.6,7.7], dtype=np.float64)\n",
      "print arr3, \" | \", arr3.dtype\n",
      "\n",
      "arr4 = np.array([1.1,2.2,3.3,4.4,5.5,6.6,7.7], dtype=np.int32)\n",
      "print arr4, \" | \", arr4.dtype\n",
      "\n",
      "arr5 = np.array(['1.1','2.2','3.3','6.6','7.7'], dtype='S3')\n",
      "print arr5, \" | \", arr5.dtype\n",
      "\n",
      "arr6 = np.array(['1.1','2.2','3.3','6.6','7.7'], dtype=np.dtype((str,2)))\n",
      "print arr6, \" | \", arr6.dtype\n",
      "\n",
      "arr7 = np.array(['1.1','7.7','abc'], dtype='S3')\n",
      "print arr7, \" | \", arr7.dtype"
     ],
     "language": "python",
     "metadata": {},
     "outputs": [
      {
       "output_type": "stream",
       "stream": "stdout",
       "text": [
        "[ 1.1  2.2  3.3  4.4  5.5  6.6  7.7]  |  float64\n",
        "[1 2 3 4 5 6 7]  |  int32\n",
        "['1.1' '2.2' '3.3' '6.6' '7.7']  |  |S3\n",
        "['1.' '2.' '3.' '6.' '7.']  |  |S2\n",
        "['1.1' '7.7' 'abc']  |  |S3\n"
       ]
      }
     ],
     "prompt_number": 34
    },
    {
     "cell_type": "code",
     "collapsed": false,
     "input": [
      "# Casting to int simply truncates the decimals\n",
      "arr3b = arr3.astype(np.int32)\n",
      "print arr3b, \" | \", arr3b.dtype\n",
      "\n",
      "arr4b = arr4.astype(np.float64)\n",
      "print arr4b, \" | \", arr4b.dtype\n",
      "\n",
      "arr5b = arr5.astype(np.float64)\n",
      "print arr5b, \" | \", arr5b.dtype\n",
      "\n",
      "arr6b = arr6.astype(np.float64)\n",
      "print arr6b, \" | \", arr6b.dtype\n",
      "\n",
      "# Does not work properly\n",
      "arr7b = arr7.astype(np.float64)\n",
      "print arr7b, \" | \", arr7b.dtype"
     ],
     "language": "python",
     "metadata": {},
     "outputs": [
      {
       "output_type": "stream",
       "stream": "stdout",
       "text": [
        "[1 2 3 4 5 6 7]  |  int32\n",
        "[ 1.  2.  3.  4.  5.  6.  7.]  |  float64\n",
        "[ 1.1  2.2  3.3  6.6  7.7]  |  float64\n",
        "[ 1.  2.  3.  6.  7.]  |  float64\n"
       ]
      },
      {
       "ename": "ValueError",
       "evalue": "could not convert string to float: abc",
       "output_type": "pyerr",
       "traceback": [
        "\u001b[0;31m---------------------------------------------------------------------------\u001b[0m\n\u001b[0;31mValueError\u001b[0m                                Traceback (most recent call last)",
        "\u001b[0;32m<ipython-input-35-ce8253696e1b>\u001b[0m in \u001b[0;36m<module>\u001b[0;34m()\u001b[0m\n\u001b[1;32m     13\u001b[0m \u001b[0;34m\u001b[0m\u001b[0m\n\u001b[1;32m     14\u001b[0m \u001b[0;31m# Does not work properly\u001b[0m\u001b[0;34m\u001b[0m\u001b[0;34m\u001b[0m\u001b[0m\n\u001b[0;32m---> 15\u001b[0;31m \u001b[0marr7b\u001b[0m \u001b[0;34m=\u001b[0m \u001b[0marr7\u001b[0m\u001b[0;34m.\u001b[0m\u001b[0mastype\u001b[0m\u001b[0;34m(\u001b[0m\u001b[0mnp\u001b[0m\u001b[0;34m.\u001b[0m\u001b[0mfloat64\u001b[0m\u001b[0;34m)\u001b[0m\u001b[0;34m\u001b[0m\u001b[0m\n\u001b[0m\u001b[1;32m     16\u001b[0m \u001b[0;32mprint\u001b[0m \u001b[0marr7b\u001b[0m\u001b[0;34m,\u001b[0m \u001b[0;34m\" | \"\u001b[0m\u001b[0;34m,\u001b[0m \u001b[0marr7b\u001b[0m\u001b[0;34m.\u001b[0m\u001b[0mdtype\u001b[0m\u001b[0;34m\u001b[0m\u001b[0m\n",
        "\u001b[0;31mValueError\u001b[0m: could not convert string to float: abc"
       ]
      }
     ],
     "prompt_number": 35
    },
    {
     "cell_type": "heading",
     "level": 1,
     "metadata": {},
     "source": [
      "Operations between Arrays and Scalars\n"
     ]
    },
    {
     "cell_type": "code",
     "collapsed": false,
     "input": [
      "arr8 = np.array([[1, 2, 3, 4], [5, 6, 7, 8]], dtype='f8')\n",
      "\n",
      "# Default operations are all elementwise\n",
      "print arr8 * arr8\n",
      "print arr8 - arr8\n",
      "print arr8 / arr8\n",
      "\n",
      "print 1 / arr8\n",
      "print arr8 ** 0.5"
     ],
     "language": "python",
     "metadata": {},
     "outputs": [
      {
       "output_type": "stream",
       "stream": "stdout",
       "text": [
        "[[  1.   4.   9.  16.]\n",
        " [ 25.  36.  49.  64.]]\n",
        "[[ 0.  0.  0.  0.]\n",
        " [ 0.  0.  0.  0.]]\n",
        "[[ 1.  1.  1.  1.]\n",
        " [ 1.  1.  1.  1.]]\n",
        "[[ 1.          0.5         0.33333333  0.25      ]\n",
        " [ 0.2         0.16666667  0.14285714  0.125     ]]\n",
        "[[ 1.          1.41421356  1.73205081  2.        ]\n",
        " [ 2.23606798  2.44948974  2.64575131  2.82842712]]\n"
       ]
      }
     ],
     "prompt_number": 43
    },
    {
     "cell_type": "heading",
     "level": 1,
     "metadata": {},
     "source": [
      "Basic Indexing and Slicing"
     ]
    },
    {
     "cell_type": "code",
     "collapsed": false,
     "input": [
      "arr = np.arange(10)\n",
      "\n",
      "print arr[5]\n",
      "print arr[5:8]\n",
      "\n",
      "arr[5:8] = 12\n",
      "print arr"
     ],
     "language": "python",
     "metadata": {},
     "outputs": [
      {
       "output_type": "stream",
       "stream": "stdout",
       "text": [
        "5\n",
        "[5 6 7]\n",
        "[ 0  1  2  3  4 12 12 12  8  9]\n"
       ]
      }
     ],
     "prompt_number": 44
    }
   ],
   "metadata": {}
  }
 ]
}