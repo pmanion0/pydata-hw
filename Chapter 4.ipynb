{
 "metadata": {
  "name": "",
  "signature": "sha256:81680864dd08d65a08535ea92015e35dbe2ada0305c89fadb7242ebd788501c4"
 },
 "nbformat": 3,
 "nbformat_minor": 0,
 "worksheets": [
  {
   "cells": [
    {
     "cell_type": "code",
     "collapsed": false,
     "input": [
      "%load_ext vimception\n",
      "%reload_ext vimception\n",
      "%vimception"
     ],
     "language": "python",
     "metadata": {},
     "outputs": []
    },
    {
     "cell_type": "code",
     "collapsed": false,
     "input": [
      "import numpy as np\n",
      "import pandas as pd\n",
      "import matplotlib.pyplot as plt\n",
      "\n",
      "%matplotlib inline"
     ],
     "language": "python",
     "metadata": {},
     "outputs": [],
     "prompt_number": 1
    },
    {
     "cell_type": "code",
     "collapsed": false,
     "input": [
      "%qtconsole"
     ],
     "language": "python",
     "metadata": {},
     "outputs": [],
     "prompt_number": 2
    },
    {
     "cell_type": "code",
     "collapsed": false,
     "input": [
      "data = np.random.rand(2,3)\n",
      "\n",
      "print data\n",
      "print data*10\n",
      "print data+data\n",
      "\n",
      "print data.shape\n",
      "print data.dtype"
     ],
     "language": "python",
     "metadata": {},
     "outputs": [
      {
       "output_type": "stream",
       "stream": "stdout",
       "text": [
        "[[ 0.48395271  0.69495926  0.06856864]\n",
        " [ 0.24473158  0.48528073  0.5393448 ]]\n",
        "[[ 4.83952714  6.9495926   0.68568638]\n",
        " [ 2.4473158   4.85280731  5.393448  ]]\n",
        "[[ 0.96790543  1.38991852  0.13713728]\n",
        " [ 0.48946316  0.97056146  1.0786896 ]]\n",
        "(2, 3)\n",
        "float64\n"
       ]
      }
     ],
     "prompt_number": 6
    },
    {
     "cell_type": "heading",
     "level": 1,
     "metadata": {},
     "source": [
      "Creating ndarrays"
     ]
    },
    {
     "cell_type": "code",
     "collapsed": false,
     "input": [
      "arr1 = np.array([6,7.5,8,0,1])\n",
      "print arr1, \" | \", arr1.shape, \" | \", arr1.dtype, \" | \", arr1.ndim\n",
      "\n",
      "arr2 = np.array([[1,2,3,4],[5,6,7,8]])\n",
      "print arr2, \" | \", arr2.shape, \" | \", arr2.dtype, \" | \", arr2.ndim"
     ],
     "language": "python",
     "metadata": {},
     "outputs": [
      {
       "output_type": "stream",
       "stream": "stdout",
       "text": [
        "[ 6.   7.5  8.   0.   1. ]  |  (5,)  |  float64  |  1\n",
        "[[1 2 3 4]\n",
        " [5 6 7 8]]  |  (2, 4)  |  int64  |  2\n"
       ]
      }
     ],
     "prompt_number": 10
    },
    {
     "cell_type": "code",
     "collapsed": false,
     "input": [
      "print np.zeros(10)\n",
      "print np.ones(3)\n",
      "print np.empty((3,2))\n",
      "print np.eye(4)\n",
      "print np.arange(1,15,2)"
     ],
     "language": "python",
     "metadata": {},
     "outputs": [
      {
       "output_type": "stream",
       "stream": "stdout",
       "text": [
        "[ 0.  0.  0.  0.  0.  0.  0.  0.  0.  0.]\n",
        "[ 1.  1.  1.]\n",
        "[[  0.00000000e+000   0.00000000e+000]\n",
        " [  2.12358237e-314   2.12358819e-314]\n",
        " [  2.12358818e-314   4.17203518e-309]]\n",
        "[[ 1.  0.  0.  0.]\n",
        " [ 0.  1.  0.  0.]\n",
        " [ 0.  0.  1.  0.]\n",
        " [ 0.  0.  0.  1.]]\n",
        "[ 1  3  5  7  9 11 13]\n"
       ]
      }
     ],
     "prompt_number": 37
    },
    {
     "cell_type": "heading",
     "level": 1,
     "metadata": {},
     "source": [
      "Data Types for ndarrays"
     ]
    },
    {
     "cell_type": "code",
     "collapsed": false,
     "input": [
      "arr3 = np.array([1.1,2.2,3.3,4.4,5.5,6.6,7.7], dtype=np.float64)\n",
      "print arr3, \" | \", arr3.dtype\n",
      "\n",
      "arr4 = np.array([1.1,2.2,3.3,4.4,5.5,6.6,7.7], dtype=np.int32)\n",
      "print arr4, \" | \", arr4.dtype\n",
      "\n",
      "arr5 = np.array(['1.1','2.2','3.3','6.6','7.7'], dtype='S3')\n",
      "print arr5, \" | \", arr5.dtype\n",
      "\n",
      "arr6 = np.array(['1.1','2.2','3.3','6.6','7.7'], dtype=np.dtype((str,2)))\n",
      "print arr6, \" | \", arr6.dtype\n",
      "\n",
      "arr7 = np.array(['1.1','7.7','abc'], dtype='S3')\n",
      "print arr7, \" | \", arr7.dtype"
     ],
     "language": "python",
     "metadata": {},
     "outputs": [
      {
       "output_type": "stream",
       "stream": "stdout",
       "text": [
        "[ 1.1  2.2  3.3  4.4  5.5  6.6  7.7]  |  float64\n",
        "[1 2 3 4 5 6 7]  |  int32\n",
        "['1.1' '2.2' '3.3' '6.6' '7.7']  |  |S3\n",
        "['1.' '2.' '3.' '6.' '7.']  |  |S2\n",
        "['1.1' '7.7' 'abc']  |  |S3\n"
       ]
      }
     ],
     "prompt_number": 34
    },
    {
     "cell_type": "code",
     "collapsed": false,
     "input": [
      "# Casting to int simply truncates the decimals\n",
      "arr3b = arr3.astype(np.int32)\n",
      "print arr3b, \" | \", arr3b.dtype\n",
      "\n",
      "arr4b = arr4.astype(np.float64)\n",
      "print arr4b, \" | \", arr4b.dtype\n",
      "\n",
      "arr5b = arr5.astype(np.float64)\n",
      "print arr5b, \" | \", arr5b.dtype\n",
      "\n",
      "arr6b = arr6.astype(np.float64)\n",
      "print arr6b, \" | \", arr6b.dtype\n",
      "\n",
      "# Does not work properly\n",
      "arr7b = arr7.astype(np.float64)\n",
      "print arr7b, \" | \", arr7b.dtype"
     ],
     "language": "python",
     "metadata": {},
     "outputs": [
      {
       "output_type": "stream",
       "stream": "stdout",
       "text": [
        "[1 2 3 4 5 6 7]  |  int32\n",
        "[ 1.  2.  3.  4.  5.  6.  7.]  |  float64\n",
        "[ 1.1  2.2  3.3  6.6  7.7]  |  float64\n",
        "[ 1.  2.  3.  6.  7.]  |  float64\n"
       ]
      },
      {
       "ename": "ValueError",
       "evalue": "could not convert string to float: abc",
       "output_type": "pyerr",
       "traceback": [
        "\u001b[0;31m---------------------------------------------------------------------------\u001b[0m\n\u001b[0;31mValueError\u001b[0m                                Traceback (most recent call last)",
        "\u001b[0;32m<ipython-input-35-ce8253696e1b>\u001b[0m in \u001b[0;36m<module>\u001b[0;34m()\u001b[0m\n\u001b[1;32m     13\u001b[0m \u001b[0;34m\u001b[0m\u001b[0m\n\u001b[1;32m     14\u001b[0m \u001b[0;31m# Does not work properly\u001b[0m\u001b[0;34m\u001b[0m\u001b[0;34m\u001b[0m\u001b[0m\n\u001b[0;32m---> 15\u001b[0;31m \u001b[0marr7b\u001b[0m \u001b[0;34m=\u001b[0m \u001b[0marr7\u001b[0m\u001b[0;34m.\u001b[0m\u001b[0mastype\u001b[0m\u001b[0;34m(\u001b[0m\u001b[0mnp\u001b[0m\u001b[0;34m.\u001b[0m\u001b[0mfloat64\u001b[0m\u001b[0;34m)\u001b[0m\u001b[0;34m\u001b[0m\u001b[0m\n\u001b[0m\u001b[1;32m     16\u001b[0m \u001b[0;32mprint\u001b[0m \u001b[0marr7b\u001b[0m\u001b[0;34m,\u001b[0m \u001b[0;34m\" | \"\u001b[0m\u001b[0;34m,\u001b[0m \u001b[0marr7b\u001b[0m\u001b[0;34m.\u001b[0m\u001b[0mdtype\u001b[0m\u001b[0;34m\u001b[0m\u001b[0m\n",
        "\u001b[0;31mValueError\u001b[0m: could not convert string to float: abc"
       ]
      }
     ],
     "prompt_number": 35
    },
    {
     "cell_type": "heading",
     "level": 1,
     "metadata": {},
     "source": [
      "Operations between Arrays and Scalars\n"
     ]
    },
    {
     "cell_type": "code",
     "collapsed": false,
     "input": [
      "arr8 = np.array([[1, 2, 3, 4], [5, 6, 7, 8]], dtype='f8')\n",
      "\n",
      "# Default operations are all elementwise\n",
      "print arr8 * arr8\n",
      "print arr8 - arr8\n",
      "print arr8 / arr8\n",
      "\n",
      "print 1 / arr8\n",
      "print arr8 ** 0.5"
     ],
     "language": "python",
     "metadata": {},
     "outputs": [
      {
       "output_type": "stream",
       "stream": "stdout",
       "text": [
        "[[  1.   4.   9.  16.]\n",
        " [ 25.  36.  49.  64.]]\n",
        "[[ 0.  0.  0.  0.]\n",
        " [ 0.  0.  0.  0.]]\n",
        "[[ 1.  1.  1.  1.]\n",
        " [ 1.  1.  1.  1.]]\n",
        "[[ 1.          0.5         0.33333333  0.25      ]\n",
        " [ 0.2         0.16666667  0.14285714  0.125     ]]\n",
        "[[ 1.          1.41421356  1.73205081  2.        ]\n",
        " [ 2.23606798  2.44948974  2.64575131  2.82842712]]\n"
       ]
      }
     ],
     "prompt_number": 43
    },
    {
     "cell_type": "heading",
     "level": 1,
     "metadata": {},
     "source": [
      "Basic Indexing and Slicing"
     ]
    },
    {
     "cell_type": "code",
     "collapsed": false,
     "input": [
      "arr = np.arange(10)\n",
      "\n",
      "print arr\n",
      "print arr[5]\n",
      "print arr[5:8]\n",
      "\n",
      "arr[5:8] = 12\n",
      "print arr\n",
      "\n",
      "arr = np.arange(10)\n",
      "arr_slice = arr[5:8]\n",
      "arr_slice[1] = -1\n",
      "\n",
      "print arr"
     ],
     "language": "python",
     "metadata": {},
     "outputs": [
      {
       "output_type": "stream",
       "stream": "stdout",
       "text": [
        "[0 1 2 3 4 5 6 7 8 9]\n",
        "5\n",
        "[5 6 7]\n",
        "[ 0  1  2  3  4 12 12 12  8  9]\n",
        "[ 0  1  2  3  4  5 -1  7  8  9]\n"
       ]
      }
     ],
     "prompt_number": 8
    },
    {
     "cell_type": "code",
     "collapsed": false,
     "input": [
      "arr2d = np.arange(9).reshape(3,3)+1\n",
      "print arr2d\n",
      "\n",
      "print arr2d[2]\n",
      "print arr2d[1,2]"
     ],
     "language": "python",
     "metadata": {},
     "outputs": [
      {
       "output_type": "stream",
       "stream": "stdout",
       "text": [
        "[[1 2 3]\n",
        " [4 5 6]\n",
        " [7 8 9]]\n",
        "[7 8 9]\n",
        "6\n"
       ]
      }
     ],
     "prompt_number": 13
    },
    {
     "cell_type": "code",
     "collapsed": false,
     "input": [
      "arr3d = np.arange(12).reshape(2,2,3)+1\n",
      "\n",
      "print(arr3d)\n",
      "print(arr3d[0])\n",
      "\n",
      "print('----')\n",
      "\n",
      "old_values = arr3d[0].copy()\n",
      "arr3d[0] = 42\n",
      "print(arr3d)\n",
      "arr3d[0] = old_values\n",
      "print(arr3d)\n",
      "\n",
      "print('-----')\n",
      "\n",
      "print(arr3d[0,1])"
     ],
     "language": "python",
     "metadata": {},
     "outputs": [
      {
       "output_type": "stream",
       "stream": "stdout",
       "text": [
        "[[[ 1  2  3]\n",
        "  [ 4  5  6]]\n",
        "\n",
        " [[ 7  8  9]\n",
        "  [10 11 12]]]\n",
        "[[1 2 3]\n",
        " [4 5 6]]\n",
        "----\n",
        "[[[42 42 42]\n",
        "  [42 42 42]]\n",
        "\n",
        " [[ 7  8  9]\n",
        "  [10 11 12]]]\n",
        "[[[ 1  2  3]\n",
        "  [ 4  5  6]]\n",
        "\n",
        " [[ 7  8  9]\n",
        "  [10 11 12]]]\n",
        "-----\n",
        "[4 5 6]\n"
       ]
      }
     ],
     "prompt_number": 18
    },
    {
     "cell_type": "code",
     "collapsed": false,
     "input": [
      "print(arr[3:6])\n",
      "print(arr[2:])\n",
      "\n",
      "print(arr2d)\n",
      "print(arr2d[:,1])\n",
      "print(arr2d[:,1].shape)"
     ],
     "language": "python",
     "metadata": {},
     "outputs": [
      {
       "output_type": "stream",
       "stream": "stdout",
       "text": [
        "[3 4 5]\n",
        "[ 2  3  4  5 -1  7  8  9]\n",
        "[[1 2 3]\n",
        " [4 5 6]\n",
        " [7 8 9]]\n",
        "[2 5 8]\n",
        "(3,)\n"
       ]
      }
     ],
     "prompt_number": 24
    },
    {
     "cell_type": "heading",
     "level": 1,
     "metadata": {},
     "source": [
      "Boolean Indexing"
     ]
    },
    {
     "cell_type": "code",
     "collapsed": false,
     "input": [
      "names = np.array(['Bob', 'Joe', 'Will', 'Bob', 'Will', 'Joe', 'Joe'])\n",
      "data  = np.random.randn(7,4)\n",
      "\n",
      "print(names)\n",
      "print(data)\n",
      "\n",
      "print(data[names == 'Bob'])\n",
      "print(data[names == 'Bob', 2:])\n",
      "print(data[(names == 'Joe') | (names == 'Bob')])\n",
      "\n",
      "data[names == 'Will'] = 0\n",
      "print(data)\n",
      "\n",
      "data[data < 0] = 0\n",
      "print(data)"
     ],
     "language": "python",
     "metadata": {},
     "outputs": [
      {
       "output_type": "stream",
       "stream": "stdout",
       "text": [
        "['Bob' 'Joe' 'Will' 'Bob' 'Will' 'Joe' 'Joe']\n",
        "[[ 0.5824597  -0.7181638   1.86478875 -0.74712826]\n",
        " [ 0.15758734  0.45278164 -1.26273948  0.96102442]\n",
        " [-0.4165789  -0.86842448  1.08858026  0.50537667]\n",
        " [ 0.90020805 -0.11558839  0.34432141 -0.3519976 ]\n",
        " [-1.07479966 -1.90203375 -0.2635433   1.92770716]\n",
        " [-0.83438067  0.56276561  0.53700102 -0.8014182 ]\n",
        " [-0.36242272  0.50665346  0.23183105  1.58073128]]\n",
        "[[ 0.5824597  -0.7181638   1.86478875 -0.74712826]\n",
        " [ 0.90020805 -0.11558839  0.34432141 -0.3519976 ]]\n",
        "[[ 1.86478875 -0.74712826]\n",
        " [ 0.34432141 -0.3519976 ]]\n",
        "[[ 0.5824597  -0.7181638   1.86478875 -0.74712826]\n",
        " [ 0.15758734  0.45278164 -1.26273948  0.96102442]\n",
        " [ 0.90020805 -0.11558839  0.34432141 -0.3519976 ]\n",
        " [-0.83438067  0.56276561  0.53700102 -0.8014182 ]\n",
        " [-0.36242272  0.50665346  0.23183105  1.58073128]]\n",
        "[[ 0.5824597  -0.7181638   1.86478875 -0.74712826]\n",
        " [ 0.15758734  0.45278164 -1.26273948  0.96102442]\n",
        " [ 0.          0.          0.          0.        ]\n",
        " [ 0.90020805 -0.11558839  0.34432141 -0.3519976 ]\n",
        " [ 0.          0.          0.          0.        ]\n",
        " [-0.83438067  0.56276561  0.53700102 -0.8014182 ]\n",
        " [-0.36242272  0.50665346  0.23183105  1.58073128]]\n",
        "[[ 0.5824597   0.          1.86478875  0.        ]\n",
        " [ 0.15758734  0.45278164  0.          0.96102442]\n",
        " [ 0.          0.          0.          0.        ]\n",
        " [ 0.90020805  0.          0.34432141  0.        ]\n",
        " [ 0.          0.          0.          0.        ]\n",
        " [ 0.          0.56276561  0.53700102  0.        ]\n",
        " [ 0.          0.50665346  0.23183105  1.58073128]]\n"
       ]
      }
     ],
     "prompt_number": 38
    },
    {
     "cell_type": "code",
     "collapsed": false,
     "input": [
      "arr = np.empty((8,4))\n",
      "\n",
      "for i in range(8):\n",
      "    arr[i] = i\n",
      "    \n",
      "print(arr)\n",
      "print(arr[[4,0,-1]])\n",
      "\n",
      "print(\"------\")\n",
      "\n",
      "arr2 = np.arange(32).reshape((8,4))\n",
      "print(arr2)\n",
      "print(arr2[[1,5,7,2],[0,3,1,2]]) # This \"zips\" up the coordinates\n",
      "print(arr2[[1,5,7,2]][[0,3,1,2]])\n",
      "\n",
      "print(\"------\")\n",
      "\n",
      "print(arr2[[1,5,7,2]][:,[0,3,1,2]]) # Provides the correct square output\n",
      "\n",
      "tmp1 = arr2[[1,5,7,2]]\n",
      "print(tmp1)\n",
      "print(tmp1[[0,3,1,2]])\n",
      "\n",
      "print(arr2[np.ix_([1,5,7,2],[0,3,1,2])]) # Also provides the correct square output"
     ],
     "language": "python",
     "metadata": {},
     "outputs": [
      {
       "output_type": "stream",
       "stream": "stdout",
       "text": [
        "[[ 0.  0.  0.  0.]\n",
        " [ 1.  1.  1.  1.]\n",
        " [ 2.  2.  2.  2.]\n",
        " [ 3.  3.  3.  3.]\n",
        " [ 4.  4.  4.  4.]\n",
        " [ 5.  5.  5.  5.]\n",
        " [ 6.  6.  6.  6.]\n",
        " [ 7.  7.  7.  7.]]\n",
        "[[ 4.  4.  4.  4.]\n",
        " [ 0.  0.  0.  0.]\n",
        " [ 7.  7.  7.  7.]]\n",
        "------\n",
        "[[ 0  1  2  3]\n",
        " [ 4  5  6  7]\n",
        " [ 8  9 10 11]\n",
        " [12 13 14 15]\n",
        " [16 17 18 19]\n",
        " [20 21 22 23]\n",
        " [24 25 26 27]\n",
        " [28 29 30 31]]\n",
        "[ 4 23 29 10]\n",
        "[[ 4  5  6  7]\n",
        " [ 8  9 10 11]\n",
        " [20 21 22 23]\n",
        " [28 29 30 31]]\n",
        "------\n",
        "[[ 4  7  5  6]\n",
        " [20 23 21 22]\n",
        " [28 31 29 30]\n",
        " [ 8 11  9 10]]\n",
        "[[ 4  5  6  7]\n",
        " [20 21 22 23]\n",
        " [28 29 30 31]\n",
        " [ 8  9 10 11]]\n",
        "[[ 4  5  6  7]\n",
        " [ 8  9 10 11]\n",
        " [20 21 22 23]\n",
        " [28 29 30 31]]\n",
        "[[ 4  7  5  6]\n",
        " [20 23 21 22]\n",
        " [28 31 29 30]\n",
        " [ 8 11  9 10]]\n"
       ]
      }
     ],
     "prompt_number": 56
    },
    {
     "cell_type": "code",
     "collapsed": false,
     "input": [
      "arr2[np.ix_([1,5,7,2],[0,3,1,2])]"
     ],
     "language": "python",
     "metadata": {},
     "outputs": [
      {
       "metadata": {},
       "output_type": "pyout",
       "prompt_number": 52,
       "text": [
        "array([[ 4,  7,  5,  6],\n",
        "       [20, 23, 21, 22],\n",
        "       [28, 31, 29, 30],\n",
        "       [ 8, 11,  9, 10]])"
       ]
      }
     ],
     "prompt_number": 52
    },
    {
     "cell_type": "code",
     "collapsed": true,
     "input": [
      "# Transposing Arrays and Swapping Axes\n",
      "arr = np.random.randn(6, 3)\n",
      "\n",
      "print(arr)\n",
      "print(np.dot(arr.T,arr))\n",
      "\n",
      "arr2 = np.arange(16).reshape((2, 2, 4))\n",
      "\n",
      "print(arr2)\n",
      "print(arr2.transpose((1,0,2))) # This changes the axis order (e.g. 1st and 2nd get swapped here)\n",
      "print(arr2.swapaxes(1,2)) # This swaps the 2nd and 3rd"
     ],
     "language": "python",
     "metadata": {},
     "outputs": [
      {
       "output_type": "stream",
       "stream": "stdout",
       "text": [
        "[[ 0.79989164 -1.52206037 -0.38897532]\n",
        " [-0.85613398  0.84113715  1.28817178]\n",
        " [ 0.02664591 -0.41093051  0.81976771]\n",
        " [ 2.20089446 -0.5004552  -0.49338897]\n",
        " [-0.82182257  0.22728078 -0.5225884 ]\n",
        " [ 1.28590836 -0.53474009 -0.38117306]]\n",
        "[[ 8.5463911  -3.92441939 -2.53871802]\n",
        " [-3.92441939  3.78110229  1.67067878]\n",
        " [-2.53871802  1.67067878  3.14453165]]\n",
        "[[[ 0  1  2  3]\n",
        "  [ 4  5  6  7]]\n",
        "\n",
        " [[ 8  9 10 11]\n",
        "  [12 13 14 15]]]\n",
        "[[[ 0  1  2  3]\n",
        "  [ 8  9 10 11]]\n",
        "\n",
        " [[ 4  5  6  7]\n",
        "  [12 13 14 15]]]\n",
        "[[[ 0  4]\n",
        "  [ 1  5]\n",
        "  [ 2  6]\n",
        "  [ 3  7]]\n",
        "\n",
        " [[ 8 12]\n",
        "  [ 9 13]\n",
        "  [10 14]\n",
        "  [11 15]]]\n"
       ]
      }
     ],
     "prompt_number": 59
    },
    {
     "cell_type": "heading",
     "level": 1,
     "metadata": {},
     "source": [
      "Universal Functions"
     ]
    },
    {
     "cell_type": "code",
     "collapsed": false,
     "input": [
      "# Unary functions take a single array as input\n",
      "arr = np.arange(10)\n",
      "\n",
      "print(arr)\n",
      "print(np.sqrt(arr))\n",
      "print(np.exp(arr))"
     ],
     "language": "python",
     "metadata": {},
     "outputs": [
      {
       "output_type": "stream",
       "stream": "stdout",
       "text": [
        "[0 1 2 3 4 5 6 7 8 9]\n",
        "[ 0.          1.          1.41421356  1.73205081  2.          2.23606798\n",
        "  2.44948974  2.64575131  2.82842712  3.        ]\n",
        "[  1.00000000e+00   2.71828183e+00   7.38905610e+00   2.00855369e+01\n",
        "   5.45981500e+01   1.48413159e+02   4.03428793e+02   1.09663316e+03\n",
        "   2.98095799e+03   8.10308393e+03]\n"
       ]
      }
     ],
     "prompt_number": 61
    },
    {
     "cell_type": "code",
     "collapsed": false,
     "input": [
      "# Binary functions take two arrays as inputs\n",
      "x = np.random.randn(8)\n",
      "y = np.random.randn(8)\n",
      "\n",
      "print(x); print(y)\n",
      "print(np.maximum(x,y))"
     ],
     "language": "python",
     "metadata": {},
     "outputs": [
      {
       "output_type": "stream",
       "stream": "stdout",
       "text": [
        "[ 0.32082574  0.80441111 -0.27826386  0.0919233   2.19199622 -0.43887619\n",
        "  0.43149795 -1.42554986]\n",
        "[ 0.46066444  0.37615649 -1.18723193  0.21548409  0.02406791 -0.36416914\n",
        "  1.57616588  0.61076086]\n",
        "[ 0.46066444  0.80441111 -0.27826386  0.21548409  2.19199622 -0.36416914\n",
        "  1.57616588  0.61076086]\n"
       ]
      }
     ],
     "prompt_number": 62
    },
    {
     "cell_type": "code",
     "collapsed": false,
     "input": [
      "# Some functions can return more than one array\n",
      "arr = np.random.randn(7) * 5\n",
      "print(arr)\n",
      "\n",
      "a, b = np.modf(arr)\n",
      "print(a); print(b)"
     ],
     "language": "python",
     "metadata": {},
     "outputs": [
      {
       "output_type": "stream",
       "stream": "stdout",
       "text": [
        "[-3.54276868 -2.73093052 -1.57293744  4.95693728  7.89850286 -4.81342457\n",
        " -4.2110833 ]\n",
        "[-0.54276868 -0.73093052 -0.57293744  0.95693728  0.89850286 -0.81342457\n",
        " -0.2110833 ]\n",
        "[-3. -2. -1.  4.  7. -4. -4.]\n"
       ]
      }
     ],
     "prompt_number": 65
    },
    {
     "cell_type": "code",
     "collapsed": false,
     "input": [
      "# rint: round elements to nearest int while preserving data types\n",
      "arr = np.random.randn(8)\n",
      "rint_arr = np.rint(arr)\n",
      "\n",
      "print(arr); print(arr.dtype)\n",
      "print(rint_arr); print(rint_arr.dtype)"
     ],
     "language": "python",
     "metadata": {},
     "outputs": [
      {
       "output_type": "stream",
       "stream": "stdout",
       "text": [
        "[-0.13038098  0.17203769 -0.23134895  0.9646477  -0.88983581 -0.01706604\n",
        "  1.68760864  0.66500475]\n",
        "float64\n",
        "[-0.  0. -0.  1. -1. -0.  2.  1.]\n",
        "float64\n"
       ]
      }
     ],
     "prompt_number": 67
    },
    {
     "cell_type": "code",
     "collapsed": false,
     "input": [
      "# maximum: maximum of array elements; # fmax: ignores NaN\n",
      "arr1 = np.random.randn(8)\n",
      "arr2 = np.random.randn(8)\n",
      "\n",
      "arr2[3:5] = np.NaN\n",
      "\n",
      "print(np.maximum(arr1,arr2))\n",
      "print(np.fmax(arr1,arr2))"
     ],
     "language": "python",
     "metadata": {},
     "outputs": [
      {
       "output_type": "stream",
       "stream": "stdout",
       "text": [
        "[ 1.63416183  2.25187819  0.74750665         nan         nan  0.99143445\n",
        "  0.53375305  0.39598596]\n",
        "[ 1.63416183  2.25187819  0.74750665 -0.49527234  0.69251422  0.99143445\n",
        "  0.53375305  0.39598596]\n"
       ]
      }
     ],
     "prompt_number": 69
    },
    {
     "cell_type": "heading",
     "level": 1,
     "metadata": {},
     "source": [
      "Data Processing Using Arrays"
     ]
    },
    {
     "cell_type": "code",
     "collapsed": false,
     "input": [
      "import matplotlib.pyplot as plt\n",
      "\n",
      "points = np.arange(-5, 5, 0.01)\n",
      "xs, ys = np.meshgrid(points, points)\n",
      "\n",
      "z = np.sqrt(xs**2 + ys**2)\n",
      "\n",
      "plt.imshow(z, cmap=plt.cm.Blues); plt.colorbar()\n"
     ],
     "language": "python",
     "metadata": {},
     "outputs": [
      {
       "metadata": {},
       "output_type": "pyout",
       "prompt_number": 75,
       "text": [
        "<matplotlib.colorbar.Colorbar instance at 0x1037123f8>"
       ]
      },
      {
       "metadata": {},
       "output_type": "display_data",
       "png": "[encoded data removed]",
       "text": [
        "<matplotlib.figure.Figure at 0x1154ade50>"
       ]
      }
     ],
     "prompt_number": 75
    },
    {
     "cell_type": "code",
     "collapsed": true,
     "input": [
      "xarr = np.arange(1.1, 1.6, 0.1)\n",
      "yarr = np.arange(2.1, 2.6, 0.1)\n",
      "cond = np.array([True, False, True, True, False])\n",
      "\n",
      "results = [(x if c else y) for x,y,c in zip(xarr,yarr,cond)]\n",
      "print(results)\n",
      "\n",
      "results2 = np.where(cond, xarr, yarr)\n",
      "print(results == results2)"
     ],
     "language": "python",
     "metadata": {},
     "outputs": [
      {
       "output_type": "stream",
       "stream": "stdout",
       "text": [
        "[1.1000000000000001, 2.2000000000000002, 1.3000000000000003, 1.4000000000000004, 2.5000000000000004]\n",
        "[ True  True  True  True  True]\n"
       ]
      }
     ],
     "prompt_number": 78
    },
    {
     "cell_type": "code",
     "collapsed": true,
     "input": [
      "# np.where can be used for more advanced things as well\n",
      "arr = np.random.randn(20).reshape(5,4)\n",
      "\n",
      "new = np.where(arr < 0, -arr**2, arr*2)\n",
      "print(arr); print(new)\n",
      "\n",
      "new2 = np.where(arr < 0, -1, +1)\n",
      "print(new2)\n",
      "\n",
      "new3 = np.where(arr < -0.5, -0.5,\n",
      "                np.where((arr < -0.5) | (arr < 0.5), 0, 0.5))\n",
      "print(new3)"
     ],
     "language": "python",
     "metadata": {},
     "outputs": [
      {
       "output_type": "stream",
       "stream": "stdout",
       "text": [
        "[[-1.09233807 -0.16663677 -0.11158754  0.39754042]\n",
        " [-0.38111505 -1.56244456 -1.09548645 -1.24400836]\n",
        " [ 1.24940275 -0.62807657 -1.69749431  0.82996778]\n",
        " [ 0.26778927  2.28941062  0.16616591 -0.26193901]\n",
        " [-0.06950755  0.27254115  0.91663444 -0.66250722]]\n",
        "[[-1.19320247 -0.02776781 -0.01245178  0.79508083]\n",
        " [-0.14524868 -2.44123302 -1.20009055 -1.5475568 ]\n",
        " [ 2.49880551 -0.39448018 -2.88148693  1.65993556]\n",
        " [ 0.53557853  4.57882123  0.33233182 -0.06861204]\n",
        " [-0.0048313   0.54508231  1.83326887 -0.43891582]]\n",
        "[[-1 -1 -1  1]\n",
        " [-1 -1 -1 -1]\n",
        " [ 1 -1 -1  1]\n",
        " [ 1  1  1 -1]\n",
        " [-1  1  1 -1]]\n",
        "[[-0.5  0.   0.   0. ]\n",
        " [ 0.  -0.5 -0.5 -0.5]\n",
        " [ 0.5 -0.5 -0.5  0.5]\n",
        " [ 0.   0.5  0.   0. ]\n",
        " [ 0.   0.   0.5 -0.5]]\n"
       ]
      }
     ],
     "prompt_number": 83
    },
    {
     "cell_type": "heading",
     "level": 1,
     "metadata": {},
     "source": [
      "Mathematical and Statistical Methods"
     ]
    },
    {
     "cell_type": "code",
     "collapsed": false,
     "input": [
      "arr = np.random.randn(5,4) # normally distributed data\n",
      "\n",
      "print(arr.mean())\n",
      "print(arr.mean(axis=0))\n",
      "print(arr.mean(axis=1))\n",
      "\n",
      "print(arr.sum(0))\n",
      "print(arr.sum(1))"
     ],
     "language": "python",
     "metadata": {},
     "outputs": [
      {
       "output_type": "stream",
       "stream": "stdout",
       "text": [
        "0.0420284325317\n",
        "[-0.04252547  0.52494858 -0.48460669  0.1702973 ]\n",
        "[ 0.96930176 -0.24628983 -0.08330071 -0.40339548 -0.02617358]\n",
        "[-0.21262737  2.62474292 -2.42303343  0.85148652]\n",
        "[ 3.87720704 -0.98515933 -0.33320283 -1.61358193 -0.1046943 ]\n"
       ]
      }
     ],
     "prompt_number": 94
    },
    {
     "cell_type": "code",
     "collapsed": false,
     "input": [
      "arr = np.arange(0,9).reshape(3,3)\n",
      "\n",
      "print(arr)\n",
      "print(arr.cumsum(0))\n",
      "print(arr.cumsum(1))\n",
      "\n",
      "print(arr.cumprod(1))"
     ],
     "language": "python",
     "metadata": {},
     "outputs": [
      {
       "output_type": "stream",
       "stream": "stdout",
       "text": [
        "[[0 1 2]\n",
        " [3 4 5]\n",
        " [6 7 8]]\n",
        "[[ 0  1  2]\n",
        " [ 3  5  7]\n",
        " [ 9 12 15]]\n",
        "[[ 0  1  3]\n",
        " [ 3  7 12]\n",
        " [ 6 13 21]]\n",
        "[[  0   0   0]\n",
        " [  3  12  60]\n",
        " [  6  42 336]]\n"
       ]
      }
     ],
     "prompt_number": 96
    },
    {
     "cell_type": "code",
     "collapsed": false,
     "input": [
      "arr = np.random.randint(0, high=2, size=(4,3))\n",
      "\n",
      "print(arr)\n",
      "\n",
      "print(arr.any())\n",
      "print(arr.any(0))\n",
      "\n",
      "print(arr.all())\n",
      "print(arr.all(1))"
     ],
     "language": "python",
     "metadata": {},
     "outputs": [
      {
       "output_type": "stream",
       "stream": "stdout",
       "text": [
        "[[1 0 1]\n",
        " [1 1 0]\n",
        " [0 1 0]\n",
        " [1 1 1]]\n",
        "True\n",
        "[ True  True  True]\n",
        "False\n",
        "[False False False  True]\n"
       ]
      }
     ],
     "prompt_number": 105
    },
    {
     "cell_type": "code",
     "collapsed": false,
     "input": [
      "arr = np.random.randn(8)\n",
      "\n",
      "print(arr)\n",
      "arr.sort()\n",
      "print(arr)"
     ],
     "language": "python",
     "metadata": {},
     "outputs": [
      {
       "output_type": "stream",
       "stream": "stdout",
       "text": [
        "[-1.76742871 -0.37712356 -0.14580907  0.44808938 -0.2852139   1.85521141\n",
        "  0.85487357 -1.10461439]\n",
        "[-1.76742871 -1.10461439 -0.37712356 -0.2852139  -0.14580907  0.44808938\n",
        "  0.85487357  1.85521141]\n"
       ]
      }
     ],
     "prompt_number": 6
    },
    {
     "cell_type": "code",
     "collapsed": false,
     "input": [
      "arr = np.random.randn(5,3)\n",
      "\n",
      "print(arr)\n",
      "arr.sort(1) # Sorts across each row as a 1D vector\n",
      "print(arr)"
     ],
     "language": "python",
     "metadata": {},
     "outputs": [
      {
       "output_type": "stream",
       "stream": "stdout",
       "text": [
        "[[  1.56935328e+00  -1.35022276e+00  -1.01064786e-01]\n",
        " [  2.17101399e-01   8.43365905e-01  -7.58228368e-02]\n",
        " [ -6.47383066e-02  -4.64347307e-01   6.52689740e-02]\n",
        " [  1.34881242e+00  -8.91642905e-01  -1.38969108e-03]\n",
        " [ -7.25651485e-02   2.17884436e-01  -8.16528280e-01]]\n",
        "[[ -1.35022276e+00  -1.01064786e-01   1.56935328e+00]\n",
        " [ -7.58228368e-02   2.17101399e-01   8.43365905e-01]\n",
        " [ -4.64347307e-01  -6.47383066e-02   6.52689740e-02]\n",
        " [ -8.91642905e-01  -1.38969108e-03   1.34881242e+00]\n",
        " [ -8.16528280e-01  -7.25651485e-02   2.17884436e-01]]\n"
       ]
      }
     ],
     "prompt_number": 7
    },
    {
     "cell_type": "code",
     "collapsed": false,
     "input": [
      "# The array function sorts in-place while np.sort() creates a copy\n",
      "large_arr = np.random.randn(1000)\n",
      "\n",
      "large_arr.sort()\n",
      "\n",
      "large_arr[int(0.05 * len(large_arr))] # 5% quantile"
     ],
     "language": "python",
     "metadata": {},
     "outputs": [
      {
       "metadata": {},
       "output_type": "pyout",
       "prompt_number": 8,
       "text": [
        "-1.7863175831393865"
       ]
      }
     ],
     "prompt_number": 8
    },
    {
     "cell_type": "heading",
     "level": 1,
     "metadata": {},
     "source": [
      "Unique and Other Set Logic"
     ]
    },
    {
     "cell_type": "code",
     "collapsed": false,
     "input": [
      "# Generate unique list of values\n",
      "names = np.array(['Bob', 'Joe', 'Will', 'Bob', 'Will', 'Joe', 'Joe'])\n",
      "print(np.unique(names))\n",
      "\n",
      "ints = [6,0,0,3,5,1,0,3]\n",
      "print(np.unique(ints))\n",
      "\n",
      "# Determine overlap/uniques of two different arrays\n",
      "names2 = np.array(['Jill', 'Bob', 'Bob', 'Will'])\n",
      "print(np.union1d(names, names2))\n",
      "print(np.intersect1d(names, names2))\n",
      "\n",
      "# Check for membership in a list\n",
      "match = np.in1d(names, ['Bob','Thomas','Will'])\n",
      "print(match)"
     ],
     "language": "python",
     "metadata": {},
     "outputs": [
      {
       "output_type": "stream",
       "stream": "stdout",
       "text": [
        "['Bob' 'Joe' 'Will']\n",
        "[0 1 3 5 6]\n",
        "['Bob' 'Jill' 'Joe' 'Will']\n",
        "['Bob' 'Will']\n",
        "[ True False  True  True  True False False]\n"
       ]
      }
     ],
     "prompt_number": 15
    },
    {
     "cell_type": "heading",
     "level": 1,
     "metadata": {},
     "source": [
      "File Input and Output with Arrays"
     ]
    },
    {
     "cell_type": "code",
     "collapsed": true,
     "input": [
      "arr = np.arange(10)\n",
      "np.save('/tmp/test.npy', arr)\n",
      "\n",
      "re_arr = np.load('/tmp/test.npy')\n",
      "print(arr)\n",
      "print(re_arr)"
     ],
     "language": "python",
     "metadata": {},
     "outputs": [
      {
       "output_type": "stream",
       "stream": "stdout",
       "text": [
        "[0 1 2 3 4 5 6 7 8 9]\n",
        "[0 1 2 3 4 5 6 7 8 9]\n"
       ]
      }
     ],
     "prompt_number": 18
    },
    {
     "cell_type": "code",
     "collapsed": false,
     "input": [
      "# Saving multiple arrays in a single zip file\n",
      "arr_a = np.random.randn(10)\n",
      "arr_b = np.random.randn(10)\n",
      "arr_z = np.random.randn(10)\n",
      "\n",
      "# Each array is written as a dictionary entry\n",
      "np.savez('/tmp/combo.npz', a=arr_a, banana=arr_b, z=arr_z)\n",
      "\n",
      "re_npz= np.load('/tmp/combo.npz')\n",
      "print(arr_a); print(re_npz['a'])\n",
      "print(arr_b); print(re_npz['banana'])\n",
      "print(arr_z); print(re_npz['z'])"
     ],
     "language": "python",
     "metadata": {},
     "outputs": [
      {
       "output_type": "stream",
       "stream": "stdout",
       "text": [
        "[-0.12061066  2.30152209  2.17643666  0.86768394  0.60523541  0.71901749\n",
        " -0.09242244  0.46882416  0.10817705  1.63364498]\n",
        "[-0.12061066  2.30152209  2.17643666  0.86768394  0.60523541  0.71901749\n",
        " -0.09242244  0.46882416  0.10817705  1.63364498]\n",
        "[ 0.28734975  0.23988733 -0.16353003  0.40997934 -0.2299575   0.24290997\n",
        "  0.63847236  1.83133457  0.14431624  1.97058421]\n",
        "[ 0.28734975  0.23988733 -0.16353003  0.40997934 -0.2299575   0.24290997\n",
        "  0.63847236  1.83133457  0.14431624  1.97058421]\n",
        "[ 0.14116051 -0.55741096  0.13624376 -1.43381988  0.79454883 -0.73287637\n",
        "  1.22730541  1.74061544 -0.04270675  0.56432253]\n",
        "[ 0.14116051 -0.55741096  0.13624376 -1.43381988  0.79454883 -0.73287637\n",
        "  1.22730541  1.74061544 -0.04270675  0.56432253]\n"
       ]
      }
     ],
     "prompt_number": 21
    },
    {
     "cell_type": "code",
     "collapsed": false,
     "input": [
      "arr = np.loadtxt('/Users/southbranchgov/wrk/prog/pydata/hw/examples/array_ex.txt',\n",
      "                 delimiter=',')\n",
      "print(arr)\n",
      "\n",
      "np.savetxt('/Users/southbranchgov/wrk/prog/pydata/hw/examples/save_array_ex.txt',\n",
      "           arr,\n",
      "           delimiter='|')"
     ],
     "language": "python",
     "metadata": {},
     "outputs": [
      {
       "output_type": "stream",
       "stream": "stdout",
       "text": [
        "[[ 0.580052  0.18673   1.040717  1.134411]\n",
        " [ 0.194163 -0.636917 -0.938659  0.124094]\n",
        " [-0.12641   0.268607 -0.695724  0.047428]\n",
        " [-1.484413  0.004176 -0.744203  0.005487]\n",
        " [ 2.302869  0.200131  1.670238 -1.88109 ]\n",
        " [-0.19323   1.047233  0.482803  0.960334]]\n"
       ]
      }
     ],
     "prompt_number": 25
    },
    {
     "cell_type": "heading",
     "level": 1,
     "metadata": {},
     "source": [
      "Linear Algebra"
     ]
    },
    {
     "cell_type": "code",
     "collapsed": false,
     "input": [
      "x = np.array([[1, 2, 3], [4, 5, 6]])\n",
      "y = np.array([[6, 23], [-1, 7], [8, 9]])\n",
      "\n",
      "print(x); print(y); print(np.dot(x,y));\n",
      "print((x.dot(y) == np.dot(x,y)).all()) # These two are equivalent"
     ],
     "language": "python",
     "metadata": {},
     "outputs": [
      {
       "output_type": "stream",
       "stream": "stdout",
       "text": [
        "[[1 2 3]\n",
        " [4 5 6]]\n",
        "[[ 6 23]\n",
        " [-1  7]\n",
        " [ 8  9]]\n",
        "[[ 28  64]\n",
        " [ 67 181]]\n",
        "True\n"
       ]
      }
     ],
     "prompt_number": 27
    },
    {
     "cell_type": "code",
     "collapsed": true,
     "input": [
      "X = np.random.randn(5,5)\n",
      "mtrx = np.dot(X.T, X)\n",
      "\n",
      "inv_mtrx = np.linalg.inv(mtrx)\n",
      "print(np.dot(inv_mtrx.T, mtrx))\n",
      "\n",
      "q,r = np.linalg.qr(mtrx)\n",
      "print(q); print(r)"
     ],
     "language": "python",
     "metadata": {},
     "outputs": [
      {
       "output_type": "stream",
       "stream": "stdout",
       "text": [
        "[[  1.00000000e+00  -3.10862447e-15  -3.10862447e-15  -4.44089210e-16\n",
        "    5.32907052e-15]\n",
        " [ -4.44089210e-16   1.00000000e+00   1.33226763e-15  -4.44089210e-16\n",
        "    0.00000000e+00]\n",
        " [  2.77555756e-17   6.24500451e-17   1.00000000e+00  -1.73472348e-17\n",
        "    2.77555756e-17]\n",
        " [ -8.88178420e-16  -8.88178420e-16   0.00000000e+00   1.00000000e+00\n",
        "    0.00000000e+00]\n",
        " [  1.77635684e-15   3.33066907e-15   1.66533454e-15  -4.44089210e-16\n",
        "    1.00000000e+00]]\n",
        "[[-0.53033551  0.061167    0.12056146 -0.18437238  0.81637896]\n",
        " [-0.51016354 -0.64564029  0.43914153 -0.04424337 -0.35788129]\n",
        " [-0.1809779  -0.43865334 -0.86556844 -0.15991368  0.00700977]\n",
        " [-0.1076725   0.3250605   0.01991446 -0.8906776  -0.29839425]\n",
        " [ 0.64353014 -0.53040186  0.20739899 -0.38101231  0.34111304]]\n",
        "[[ -3.96800996  -4.97908346  -4.23790745   0.53556245   5.67299234]\n",
        " [  0.         -10.07488822 -10.05162004   4.73224252  -6.92018406]\n",
        " [  0.           0.          -7.58586695   1.19082903   1.46981631]\n",
        " [  0.          -0.          -0.          -1.50916409  -1.82028242]\n",
        " [ -0.           0.          -0.           0.           0.44774451]]\n"
       ]
      }
     ],
     "prompt_number": 31
    },
    {
     "cell_type": "heading",
     "level": 1,
     "metadata": {},
     "source": [
      "Random Number Generation"
     ]
    },
    {
     "cell_type": "code",
     "collapsed": false,
     "input": [
      "import random\n",
      "\n",
      "samples = np.random.normal(size=(4,4))\n",
      "print(samples)\n",
      "\n",
      "N = 100000\n",
      "\n",
      "# NumPy destroys the standard Python way\n",
      "%timeit samples = [random.normalvariate(0,1) for _ in xrange(N)] # Standard Method\n",
      "%timeit np.random.normal(size=(N)) # NumPy Method"
     ],
     "language": "python",
     "metadata": {},
     "outputs": [
      {
       "output_type": "stream",
       "stream": "stdout",
       "text": [
        "[[ 0.25341535  0.34997995 -0.77205664  2.53611035]\n",
        " [-2.16599316  1.26484201  0.06712603 -0.26286368]\n",
        " [-0.97015941  0.60316426 -0.20653585 -1.66622849]\n",
        " [-0.10881122  1.28115115 -0.08022785  2.15752054]]\n",
        "10 loops, best of 3: 128 ms per loop"
       ]
      },
      {
       "output_type": "stream",
       "stream": "stdout",
       "text": [
        "\n",
        "100 loops, best of 3: 3.51 ms per loop"
       ]
      },
      {
       "output_type": "stream",
       "stream": "stdout",
       "text": [
        "\n"
       ]
      }
     ],
     "prompt_number": 34
    },
    {
     "cell_type": "heading",
     "level": 1,
     "metadata": {},
     "source": [
      "Example: Random Walks"
     ]
    },
    {
     "cell_type": "code",
     "collapsed": false,
     "input": [
      "numsteps = 10000\n",
      "\n",
      "draws = np.random.randint(0, 2, size=numsteps)\n",
      "steps = np.where(draws > 0, +1, -1)\n",
      "thewalk = steps.cumsum()\n",
      "\n",
      "plt.plot(thewalk)\n",
      "print(\"Min: \" + str(thewalk.min()))\n",
      "print(\"Max: \" + str(thewalk.max()))"
     ],
     "language": "python",
     "metadata": {},
     "outputs": [
      {
       "output_type": "stream",
       "stream": "stdout",
       "text": [
        "Min: -115\n",
        "Max: 4\n"
       ]
      },
      {
       "metadata": {},
       "output_type": "display_data",
       "png": "[encoded data removed]",
       "text": [
        "<matplotlib.figure.Figure at 0x111a61310>"
       ]
      }
     ],
     "prompt_number": 42
    },
    {
     "cell_type": "code",
     "collapsed": false,
     "input": [
      "# Repeat the simulation REPS number of times\n",
      "reps = 5000\n",
      "numsteps = 1000\n",
      "\n",
      "r_draws = np.random.randint(0, 2, size=(reps,numsteps))\n",
      "r_steps = np.where(r_draws > 0, +1, -1)\n",
      "r_walk  = r_steps.cumsum(axis=1)\n",
      "\n",
      "# Average maximum and minimum deviation\n",
      "print(r_walk.min(axis=1).mean())\n",
      "print(r_walk.max(axis=1).mean())\n",
      "\n",
      "# Average crossing time for 30 (of walks that pass 30)\n",
      "hit30 = np.where(np.abs(r_walk) >= 30, 1, 0).any(1)\n",
      "crossing_time = (np.abs(r_walk[hit30]) >= 30).argmax(1)\n",
      "\n",
      "print(\"Number Crosssing 30: \" + str(hit30.sum()))\n",
      "print(\"Average Crossing Time: \" + str(crossing_time.mean()))"
     ],
     "language": "python",
     "metadata": {},
     "outputs": [
      {
       "output_type": "stream",
       "stream": "stdout",
       "text": [
        "-24.9588\n",
        "24.7004\n",
        "Number Crosssing 30: 3417"
       ]
      },
      {
       "output_type": "stream",
       "stream": "stdout",
       "text": [
        "\n",
        "Average Crossing Time: 503.129353234\n"
       ]
      }
     ],
     "prompt_number": 9
    }
   ],
   "metadata": {}
  }
 ]
}