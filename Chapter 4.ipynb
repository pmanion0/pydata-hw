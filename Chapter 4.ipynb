{
 "metadata": {
  "name": "",
  "signature": "sha256:e390cc229f576e1ea3b0af77712f6918e3a6d010cefd1c32ba81ad582019fe59"
 },
 "nbformat": 3,
 "nbformat_minor": 0,
 "worksheets": [
  {
   "cells": [
    {
     "cell_type": "code",
     "collapsed": false,
     "input": [
      "import numpy as np\n",
      "import pandas as pd\n",
      "import matplotlib.pyplot as plt\n",
      "\n",
      "%matplotlib inline"
     ],
     "language": "python",
     "metadata": {},
     "outputs": [],
     "prompt_number": 2
    },
    {
     "cell_type": "code",
     "collapsed": false,
     "input": [
      "data = np.random.rand(2,3)\n",
      "\n",
      "print data\n",
      "print data*10\n",
      "print data+data\n",
      "\n",
      "print data.shape\n",
      "print data.dtype"
     ],
     "language": "python",
     "metadata": {},
     "outputs": [
      {
       "output_type": "stream",
       "stream": "stdout",
       "text": [
        "[[ 0.48395271  0.69495926  0.06856864]\n",
        " [ 0.24473158  0.48528073  0.5393448 ]]\n",
        "[[ 4.83952714  6.9495926   0.68568638]\n",
        " [ 2.4473158   4.85280731  5.393448  ]]\n",
        "[[ 0.96790543  1.38991852  0.13713728]\n",
        " [ 0.48946316  0.97056146  1.0786896 ]]\n",
        "(2, 3)\n",
        "float64\n"
       ]
      }
     ],
     "prompt_number": 6
    },
    {
     "cell_type": "heading",
     "level": 1,
     "metadata": {},
     "source": [
      "Creating ndarrays"
     ]
    },
    {
     "cell_type": "code",
     "collapsed": false,
     "input": [
      "arr1 = np.array([6,7.5,8,0,1])\n",
      "print arr1, \" | \", arr1.shape, \" | \", arr1.dtype, \" | \", arr1.ndim\n",
      "\n",
      "arr2 = np.array([[1,2,3,4],[5,6,7,8]])\n",
      "print arr2, \" | \", arr2.shape, \" | \", arr2.dtype, \" | \", arr2.ndim"
     ],
     "language": "python",
     "metadata": {},
     "outputs": [
      {
       "output_type": "stream",
       "stream": "stdout",
       "text": [
        "[ 6.   7.5  8.   0.   1. ]  |  (5,)  |  float64  |  1\n",
        "[[1 2 3 4]\n",
        " [5 6 7 8]]  |  (2, 4)  |  int64  |  2\n"
       ]
      }
     ],
     "prompt_number": 10
    },
    {
     "cell_type": "code",
     "collapsed": false,
     "input": [
      "print np.zeros(10)\n",
      "print np.ones(3)\n",
      "print np.empty((3,2))\n",
      "print np.eye(4)\n",
      "print np.arange(1,15,2)"
     ],
     "language": "python",
     "metadata": {},
     "outputs": [
      {
       "output_type": "stream",
       "stream": "stdout",
       "text": [
        "[ 0.  0.  0.  0.  0.  0.  0.  0.  0.  0.]\n",
        "[ 1.  1.  1.]\n",
        "[[  0.00000000e+000   0.00000000e+000]\n",
        " [  2.12358237e-314   2.12358819e-314]\n",
        " [  2.12358818e-314   4.17203518e-309]]\n",
        "[[ 1.  0.  0.  0.]\n",
        " [ 0.  1.  0.  0.]\n",
        " [ 0.  0.  1.  0.]\n",
        " [ 0.  0.  0.  1.]]\n",
        "[ 1  3  5  7  9 11 13]\n"
       ]
      }
     ],
     "prompt_number": 37
    },
    {
     "cell_type": "heading",
     "level": 1,
     "metadata": {},
     "source": [
      "Data Types for ndarrays"
     ]
    },
    {
     "cell_type": "code",
     "collapsed": false,
     "input": [],
     "language": "python",
     "metadata": {},
     "outputs": []
    }
   ],
   "metadata": {}
  }
 ]
}