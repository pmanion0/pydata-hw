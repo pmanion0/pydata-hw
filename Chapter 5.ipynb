{
 "metadata": {
  "name": "",
  "signature": "sha256:a2bf7104c136e643736bebc9fec795145d8bdc63d2556698f36619c8b9e27322"
 },
 "nbformat": 3,
 "nbformat_minor": 0,
 "worksheets": [
  {
   "cells": [
    {
     "cell_type": "code",
     "collapsed": false,
     "input": [
      "import numpy as np\n",
      "import matplotlib.pyplot as plt\n",
      "import pandas as pd\n",
      "\n",
      "from pandas import Series, DataFrame"
     ],
     "language": "python",
     "metadata": {},
     "outputs": [],
     "prompt_number": 1
    },
    {
     "cell_type": "code",
     "collapsed": false,
     "input": [
      "%qtconsole\n",
      "%matplotlib inline"
     ],
     "language": "python",
     "metadata": {},
     "outputs": [],
     "prompt_number": 2
    },
    {
     "cell_type": "code",
     "collapsed": false,
     "input": [
      "obj = Series([4,7,-5,3])\n",
      "print(obj)\n",
      "print(obj.values)\n",
      "print(obj.index)"
     ],
     "language": "python",
     "metadata": {},
     "outputs": [
      {
       "output_type": "stream",
       "stream": "stdout",
       "text": [
        "0    4\n",
        "1    7\n",
        "2   -5\n",
        "3    3\n",
        "dtype: int64\n",
        "[ 4  7 -5  3]\n",
        "Int64Index([0, 1, 2, 3], dtype='int64')\n"
       ]
      }
     ],
     "prompt_number": 11
    },
    {
     "cell_type": "code",
     "collapsed": false,
     "input": [
      "obj2 = Series([4,7,-5,3], index=['d','b','a','c'])\n",
      "print(obj2)\n",
      "print(obj2.index)\n",
      "\n",
      "print(obj2['a'])\n",
      "obj2['d'] = 6\n",
      "print(obj2[['c','d','a']])\n",
      "\n",
      "print(obj2[obj2 > 0])\n",
      "print('b' in obj2)\n",
      "print('e' in obj2)"
     ],
     "language": "python",
     "metadata": {},
     "outputs": [
      {
       "output_type": "stream",
       "stream": "stdout",
       "text": [
        "d    4\n",
        "b    7\n",
        "a   -5\n",
        "c    3\n",
        "dtype: int64\n",
        "Index([u'd', u'b', u'a', u'c'], dtype='object')\n",
        "-5\n",
        "c    3\n",
        "d    6\n",
        "a   -5\n",
        "dtype: int64\n",
        "d    6\n",
        "b    7\n",
        "c    3\n",
        "dtype: int64\n",
        "True\n",
        "False\n"
       ]
      }
     ],
     "prompt_number": 13
    },
    {
     "cell_type": "code",
     "collapsed": true,
     "input": [
      "# Series can be initialized using a dictionary\n",
      "sdata = {'Ohio': 35000, 'Texas': 71000, 'Oregon': 16000, 'Utah': 5000}\n",
      "obj3 = Series(sdata)\n",
      "print(obj3)\n",
      "\n",
      "states = ['California','Ohio','Oregon','Texas']\n",
      "obj4 = Series(sdata, index=states) # Utah gets dropped and CA added due to index\n",
      "print(obj4)\n",
      "\n",
      "# There are instance (and function) methods to fine the NaN (like CA)\n",
      "print(obj4.isnull()); print(obj4.notnull())\n",
      "\n",
      "# Arithemetic operations are matched on index by default\n",
      "obj3 + obj4"
     ],
     "language": "python",
     "metadata": {},
     "outputs": [
      {
       "output_type": "stream",
       "stream": "stdout",
       "text": [
        "Ohio      35000\n",
        "Oregon    16000\n",
        "Texas     71000\n",
        "Utah       5000\n",
        "dtype: int64\n",
        "California      NaN\n",
        "Ohio          35000\n",
        "Oregon        16000\n",
        "Texas         71000\n",
        "dtype: float64\n",
        "California     True\n",
        "Ohio          False\n",
        "Oregon        False\n",
        "Texas         False\n",
        "dtype: bool\n",
        "California    False\n",
        "Ohio           True\n",
        "Oregon         True\n",
        "Texas          True\n",
        "dtype: bool\n"
       ]
      },
      {
       "metadata": {},
       "output_type": "pyout",
       "prompt_number": 18,
       "text": [
        "California       NaN\n",
        "Ohio           70000\n",
        "Oregon         32000\n",
        "Texas         142000\n",
        "Utah             NaN\n",
        "dtype: float64"
       ]
      }
     ],
     "prompt_number": 18
    },
    {
     "cell_type": "code",
     "collapsed": false,
     "input": [
      "obj4.name = 'population'\n",
      "obj4.index.name = 'state'\n",
      "print(obj4)\n",
      "\n",
      "obj4.index = ['Bob','Steve','Jeff','Ryan']\n",
      "print(obj4)"
     ],
     "language": "python",
     "metadata": {},
     "outputs": [
      {
       "output_type": "stream",
       "stream": "stdout",
       "text": [
        "state\n",
        "California      NaN\n",
        "Ohio          35000\n",
        "Oregon        16000\n",
        "Texas         71000\n",
        "Name: population, dtype: float64\n",
        "Bob        NaN\n",
        "Steve    35000\n",
        "Jeff     16000\n",
        "Ryan     71000\n",
        "Name: population, dtype: float64\n"
       ]
      }
     ],
     "prompt_number": 20
    },
    {
     "cell_type": "code",
     "collapsed": false,
     "input": [
      "data = {'state': ['Ohio', 'Ohio', 'Ohio', 'Nevada', 'Nevada'],\n",
      "        'year': [2000, 2001, 2002, 2001, 2002],\n",
      "        'pop': [1.5, 1.7, 3.6, 2.4, 2.9]}\n",
      "\n",
      "frame = DataFrame(data)\n",
      "print(frame)\n",
      "\n",
      "frame = DataFrame(data, columns=['year','state','pop'])\n",
      "print(frame)"
     ],
     "language": "python",
     "metadata": {},
     "outputs": [
      {
       "output_type": "stream",
       "stream": "stdout",
       "text": [
        "   pop   state  year\n",
        "0  1.5    Ohio  2000\n",
        "1  1.7    Ohio  2001\n",
        "2  3.6    Ohio  2002\n",
        "3  2.4  Nevada  2001\n",
        "4  2.9  Nevada  2002\n",
        "   year   state  pop\n",
        "0  2000    Ohio  1.5\n",
        "1  2001    Ohio  1.7\n",
        "2  2002    Ohio  3.6\n",
        "3  2001  Nevada  2.4\n",
        "4  2002  Nevada  2.9\n"
       ]
      }
     ],
     "prompt_number": 21
    },
    {
     "cell_type": "code",
     "collapsed": true,
     "input": [
      "frame2 = DataFrame(data,\n",
      "                   columns=['year', 'state', 'pop', 'debt'],\n",
      "                   index=['one', 'two', 'three', 'four', 'five'])\n",
      "\n",
      "print(frame2) ;  print(frame2.columns)\n",
      "\n",
      "print(frame2['year']);  print(frame2.year)\n",
      "\n",
      "print(frame2.ix['two'])\n",
      "\n",
      "# A fixed value can be assigned to a Series\n",
      "frame2['debt'] = 16.5\n",
      "print(frame2)\n",
      "\n",
      "# numpy arrays can also be assigned\n",
      "frame2['debt'] = np.arange(5)\n",
      "print(frame2)\n",
      "\n",
      "# As can another series with some overlapping index\n",
      "val = Series([-1.2, -1.5, -1.7], index=['two','four','five'])\n",
      "frame2['debt'] = val # These are matched on index and NaNs inserted for missings\n",
      "print(frame2)\n",
      "\n",
      "# New columns can also be created\n",
      "frame2['eastern'] = (frame2.state == 'Ohio')\n",
      "print(frame2)\n",
      "\n",
      "# And deleted\n",
      "del frame2['eastern']\n",
      "print(frame2)"
     ],
     "language": "python",
     "metadata": {},
     "outputs": [
      {
       "output_type": "stream",
       "stream": "stdout",
       "text": [
        "       year   state  pop debt\n",
        "one    2000    Ohio  1.5  NaN\n",
        "two    2001    Ohio  1.7  NaN\n",
        "three  2002    Ohio  3.6  NaN\n",
        "four   2001  Nevada  2.4  NaN\n",
        "five   2002  Nevada  2.9  NaN\n",
        "Index([u'year', u'state', u'pop', u'debt'], dtype='object')\n",
        "one      2000\n",
        "two      2001\n",
        "three    2002\n",
        "four     2001\n",
        "five     2002\n",
        "Name: year, dtype: int64\n",
        "one      2000\n",
        "two      2001\n",
        "three    2002\n",
        "four     2001\n",
        "five     2002\n",
        "Name: year, dtype: int64\n",
        "year     2001\n",
        "state    Ohio\n",
        "pop       1.7\n",
        "debt      NaN\n",
        "Name: two, dtype: object\n",
        "       year   state  pop  debt\n",
        "one    2000    Ohio  1.5  16.5\n",
        "two    2001    Ohio  1.7  16.5\n",
        "three  2002    Ohio  3.6  16.5\n",
        "four   2001  Nevada  2.4  16.5\n",
        "five   2002  Nevada  2.9  16.5\n",
        "       year   state  pop  debt\n",
        "one    2000    Ohio  1.5     0\n",
        "two    2001    Ohio  1.7     1\n",
        "three  2002    Ohio  3.6     2\n",
        "four   2001  Nevada  2.4     3\n",
        "five   2002  Nevada  2.9     4\n",
        "       year   state  pop  debt\n",
        "one    2000    Ohio  1.5   NaN\n",
        "two    2001    Ohio  1.7  -1.2\n",
        "three  2002    Ohio  3.6   NaN\n",
        "four   2001  Nevada  2.4  -1.5\n",
        "five   2002  Nevada  2.9  -1.7\n",
        "       year   state  pop  debt eastern\n",
        "one    2000    Ohio  1.5   NaN    True\n",
        "two    2001    Ohio  1.7  -1.2    True\n",
        "three  2002    Ohio  3.6   NaN    True\n",
        "four   2001  Nevada  2.4  -1.5   False\n",
        "five   2002  Nevada  2.9  -1.7   False\n",
        "       year   state  pop  debt\n",
        "one    2000    Ohio  1.5   NaN\n",
        "two    2001    Ohio  1.7  -1.2\n",
        "three  2002    Ohio  3.6   NaN\n",
        "four   2001  Nevada  2.4  -1.5\n",
        "five   2002  Nevada  2.9  -1.7\n"
       ]
      }
     ],
     "prompt_number": 30
    },
    {
     "cell_type": "code",
     "collapsed": true,
     "input": [
      "# Series can also be created with nested dictionaries\n",
      "pop = {'Nevada': {2001: 2.4, 2002: 2.9},\n",
      "       'Ohio': {2000: 1.5, 2001: 1.7, 2002: 3.6}}\n",
      "\n",
      "frame3 = DataFrame(pop)\n",
      "print(frame3)\n",
      "\n",
      "# The default approach can be transposed as well\n",
      "print(frame3.T)\n",
      "\n",
      "# Dicts of series can also work\n",
      "pdata = DataFrame({'Ohio': frame3['Ohio'][:-1],\n",
      "                   'Nevada': frame3['Nevada'][:2]})\n",
      "print(pdata)\n",
      "\n",
      "# If names are given, they will be displayed as well\n",
      "frame3.index.name = 'year'; frame3.columns.name = 'state'\n",
      "print(frame3)\n",
      "\n",
      "# .values will return a numpy array (with type that fits all values)\n",
      "print(frame3.values)\n",
      "print(type(frame3.values))"
     ],
     "language": "python",
     "metadata": {},
     "outputs": [
      {
       "output_type": "stream",
       "stream": "stdout",
       "text": [
        "      Nevada  Ohio\n",
        "2000     NaN   1.5\n",
        "2001     2.4   1.7\n",
        "2002     2.9   3.6\n",
        "        2000  2001  2002\n",
        "Nevada   NaN   2.4   2.9\n",
        "Ohio     1.5   1.7   3.6\n",
        "      Nevada  Ohio\n",
        "2000     NaN   1.5\n",
        "2001     2.4   1.7\n",
        "state  Nevada  Ohio\n",
        "year               \n",
        "2000      NaN   1.5\n",
        "2001      2.4   1.7\n",
        "2002      2.9   3.6\n",
        "[[ nan  1.5]\n",
        " [ 2.4  1.7]\n",
        " [ 2.9  3.6]]\n",
        "<type 'numpy.ndarray'>\n"
       ]
      }
     ],
     "prompt_number": 38
    }
   ],
   "metadata": {}
  }
 ]
}