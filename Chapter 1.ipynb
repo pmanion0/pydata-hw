{
 "metadata": {
  "name": "",
  "signature": "sha256:88c6f68a02ea1829759445dcff17a362943f087af51cc99fd3b53dd2ac50709e"
 },
 "nbformat": 3,
 "nbformat_minor": 0,
 "worksheets": [
  {
   "cells": [
    {
     "cell_type": "code",
     "collapsed": false,
     "input": [
      "%qtconsole"
     ],
     "language": "python",
     "metadata": {},
     "outputs": [],
     "prompt_number": 1
    },
    {
     "cell_type": "code",
     "collapsed": false,
     "input": [
      "import numpy as np\n",
      "import pandas as pd\n",
      "import matplotlib as plt"
     ],
     "language": "python",
     "metadata": {},
     "outputs": [],
     "prompt_number": 2
    },
    {
     "cell_type": "code",
     "collapsed": false,
     "input": [
      "path = '/Users/southbranchgov/wrk/prog/pydata/book/ch02/usagov_bitly_data2012-03-16-1331923249.txt'\n",
      "\n",
      "open(path).readline()"
     ],
     "language": "python",
     "metadata": {},
     "outputs": [
      {
       "metadata": {},
       "output_type": "pyout",
       "prompt_number": 2,
       "text": [
        "'{ \"a\": \"Mozilla\\\\/5.0 (Windows NT 6.1; WOW64) AppleWebKit\\\\/535.11 (KHTML, like Gecko) Chrome\\\\/17.0.963.78 Safari\\\\/535.11\", \"c\": \"US\", \"nk\": 1, \"tz\": \"America\\\\/New_York\", \"gr\": \"MA\", \"g\": \"A6qOVH\", \"h\": \"wfLQtf\", \"l\": \"orofrog\", \"al\": \"en-US,en;q=0.8\", \"hh\": \"1.usa.gov\", \"r\": \"http:\\\\/\\\\/www.facebook.com\\\\/l\\\\/7AQEFzjSi\\\\/1.usa.gov\\\\/wfLQtf\", \"u\": \"http:\\\\/\\\\/www.ncbi.nlm.nih.gov\\\\/pubmed\\\\/22415991\", \"t\": 1331923247, \"hc\": 1331822918, \"cy\": \"Danvers\", \"ll\": [ 42.576698, -70.954903 ] }\\n'"
       ]
      }
     ],
     "prompt_number": 2
    },
    {
     "cell_type": "code",
     "collapsed": false,
     "input": [
      "import json\n",
      "records = [json.loads(line) for line in open(path)]\n",
      "\n",
      "time_zones = [rec['tz'] for rec in records if 'tz' in rec]"
     ],
     "language": "python",
     "metadata": {},
     "outputs": [],
     "prompt_number": 29
    },
    {
     "cell_type": "code",
     "collapsed": false,
     "input": [
      "# Raw Python Solution\n",
      "def get_counts(list):\n",
      "    counts = {}\n",
      "    for x in list:\n",
      "        if x in counts:\n",
      "            counts[x] += 1\n",
      "        else:\n",
      "            counts[x] = 1\n",
      "    return counts\n",
      "        \n",
      "tz_counts = get_counts(time_zones)"
     ],
     "language": "python",
     "metadata": {},
     "outputs": [],
     "prompt_number": 36
    },
    {
     "cell_type": "code",
     "collapsed": false,
     "input": [
      "# Standard Python Library Solution\n",
      "from collections import defaultdict # Initialize values to 0\n",
      "\n",
      "def get_counts2(list):\n",
      "    counts = defaultdict(int)\n",
      "    for x in list:\n",
      "        counts[x] += 1\n",
      "    return counts\n",
      "\n",
      "tz_counts2 = get_counts2(time_zones)"
     ],
     "language": "python",
     "metadata": {},
     "outputs": [],
     "prompt_number": 45
    },
    {
     "cell_type": "code",
     "collapsed": true,
     "input": [
      "# Return the Top 10 most frequent time zones\n",
      "def top_counts(count_dict, top=10):\n",
      "    value_key_pairs = [(count,tz) for tz, count in count_dict.items()]\n",
      "    value_key_pairs.sort()\n",
      "    return value_key_pairs[-top:]\n",
      "\n",
      "top_counts(tz_counts2)\n"
     ],
     "language": "python",
     "metadata": {},
     "outputs": [
      {
       "metadata": {},
       "output_type": "pyout",
       "prompt_number": 52,
       "text": [
        "[(33, u'America/Sao_Paulo'),\n",
        " (35, u'Europe/Madrid'),\n",
        " (36, u'Pacific/Honolulu'),\n",
        " (37, u'Asia/Tokyo'),\n",
        " (74, u'Europe/London'),\n",
        " (191, u'America/Denver'),\n",
        " (382, u'America/Los_Angeles'),\n",
        " (400, u'America/Chicago'),\n",
        " (521, u''),\n",
        " (1251, u'America/New_York')]"
       ]
      }
     ],
     "prompt_number": 52
    },
    {
     "cell_type": "code",
     "collapsed": true,
     "input": [
      "# Another Python Collection Solution\n",
      "from collections import Counter\n",
      "tz_counts3 = Counter(time_zones)\n",
      "tz_counts3.most_common(8)"
     ],
     "language": "python",
     "metadata": {},
     "outputs": [
      {
       "metadata": {},
       "output_type": "pyout",
       "prompt_number": 70,
       "text": [
        "[(u'America/New_York', 1251),\n",
        " (u'', 521),\n",
        " (u'America/Chicago', 400),\n",
        " (u'America/Los_Angeles', 382),\n",
        " (u'America/Denver', 191),\n",
        " (u'Europe/London', 74),\n",
        " (u'Asia/Tokyo', 37),\n",
        " (u'Pacific/Honolulu', 36)]"
       ]
      }
     ],
     "prompt_number": 70
    },
    {
     "cell_type": "code",
     "collapsed": true,
     "input": [
      "# Now the Pandas solution\n",
      "%matplotlib inline\n",
      "from pandas import DataFrame, Series\n",
      "import pandas as pd\n",
      "\n",
      "frame = DataFrame(records)\n",
      "#frame['tz'].value_counts()\n",
      "clean_tz = frame['tz'].fillna('Missing')\n",
      "clean_tz[clean_tz == ''] = 'Unknown'\n",
      "\n",
      "clean_counts = clean_tz.value_counts()\n",
      "clean_counts[:10].plot(kind='barh', rot=0)\n"
     ],
     "language": "python",
     "metadata": {},
     "outputs": [
      {
       "metadata": {},
       "output_type": "pyout",
       "prompt_number": 85,
       "text": [
        "<matplotlib.axes.AxesSubplot at 0x111f46210>"
       ]
      },
      {
       "metadata": {},
       "output_type": "display_data",
       "png": "[encoded data removed]",
       "text": [
        "<matplotlib.figure.Figure at 0x111f50850>"
       ]
      }
     ],
     "prompt_number": 85
    },
    {
     "cell_type": "code",
     "collapsed": true,
     "input": [
      "# Look at the most common agent strings\n",
      "browsers = Series([x.split('/')[0] for x in frame['a'].dropna()])\n",
      "browsers.value_counts()[:10]"
     ],
     "language": "python",
     "metadata": {},
     "outputs": [
      {
       "metadata": {},
       "output_type": "pyout",
       "prompt_number": 114,
       "text": [
        "Mozilla                3201\n",
        "GoogleMaps              121\n",
        "Opera                    38\n",
        "TEST_INTERNET_AGENT      24\n",
        "GoogleProducer           21\n",
        "BlackBerry8520            8\n",
        "Dalvik                    3\n",
        "BlackBerry9700            2\n",
        "Goldfire Server           2\n",
        "BlackBerry9630            2\n",
        "dtype: int64"
       ]
      }
     ],
     "prompt_number": 114
    },
    {
     "cell_type": "code",
     "collapsed": false,
     "input": [
      "# Look up frequency of Windows users\n",
      "cframe = frame[frame['a'].notnull()]\n",
      "operating_system = np.where(cframe['a'].str.contains('Windows'), 'Windows', 'Not Windows')\n",
      "by_tz_os = cframe.groupby(['tz', operating_system])\n",
      "agg_counts = by_tz_os.size().unstack().fillna(0)\n",
      "\n",
      "\n",
      "indexer = agg_counts.sum(1).argsort()\n",
      "os_by_tz = agg_counts.take(indexer)\n",
      "\n",
      "# Not very easy to see relative percentages\n",
      "os_by_tz[-10:].plot(kind='barh', stacked=True)\n",
      "\n",
      "normed_os_tz = os_by_tz.div(os_by_tz.sum(1), axis=0)\n",
      "normed_os_tz[-10:].plot(kind='barh', stacked=True)\n",
      "\n",
      "\n"
     ],
     "language": "python",
     "metadata": {},
     "outputs": [
      {
       "metadata": {},
       "output_type": "pyout",
       "prompt_number": 248,
       "text": [
        "<matplotlib.axes.AxesSubplot at 0x11c2ad810>"
       ]
      },
      {
       "metadata": {},
       "output_type": "display_data",
       "png": "[encoded data removed]",
       "text": [
        "<matplotlib.figure.Figure at 0x11d017150>"
       ]
      },
      {
       "metadata": {},
       "output_type": "display_data",
       "png": "[encoded data removed]",
       "text": [
        "<matplotlib.figure.Figure at 0x119445350>"
       ]
      }
     ],
     "prompt_number": 248
    },
    {
     "cell_type": "code",
     "collapsed": false,
     "input": [
      "movie_path = '/Users/southbranchgov/wrk/prog/pydata/book/ch02/movielens'\n",
      "\n",
      "unames = ['user_id','gender','age','occupation','zip']\n",
      "users = pd.read_table(movie_path + '/users.dat', sep='::', header=None, names=unames)\n",
      "\n",
      "rnames = ['user_id','movie_id','rating','timestamp']\n",
      "ratings = pd.read_table(movie_path + '/ratings.dat', sep='::', header=None, names=rnames)\n",
      "\n",
      "mnames = ['movie_id','title','genre']\n",
      "movies = pd.read_table(movie_path + '/movies.dat', sep='::', header=None, names=mnames)"
     ],
     "language": "python",
     "metadata": {},
     "outputs": [
      {
       "output_type": "stream",
       "stream": "stderr",
       "text": [
        "/Users/southbranchgov/Library/Enthought/Canopy_64bit/User/lib/python2.7/site-packages/pandas/io/parsers.py:624: ParserWarning: Falling back to the 'python' engine because the 'c' engine does not support regex separators; you can avoid this warning by specifying engine='python'.\n",
        "  ParserWarning)\n"
       ]
      }
     ],
     "prompt_number": 3
    },
    {
     "cell_type": "code",
     "collapsed": false,
     "input": [
      "movie_data = pd.merge(pd.merge(ratings,users), movies)"
     ],
     "language": "python",
     "metadata": {},
     "outputs": [],
     "prompt_number": 4
    },
    {
     "cell_type": "code",
     "collapsed": false,
     "input": [
      "gender_ratings = movie_data.groupby(['title','gender'])\n"
     ],
     "language": "python",
     "metadata": {},
     "outputs": [],
     "prompt_number": 5
    }
   ],
   "metadata": {}
  }
 ]
}